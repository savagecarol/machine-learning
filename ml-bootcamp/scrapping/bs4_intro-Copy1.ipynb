{
 "cells": [
  {
   "cell_type": "code",
   "execution_count": 6,
   "metadata": {},
   "outputs": [],
   "source": [
    "from bs4 import BeautifulSoup\n",
    "import requests\n",
    "\n",
    "url = \"https://www.goodreads.com/quotes/tag/{}?page={}\"\n"
   ]
  },
  {
   "cell_type": "code",
   "execution_count": 7,
   "metadata": {},
   "outputs": [],
   "source": [
    "def get_quotes(url): \n",
    "    res = requests.get(url)\n",
    "\n",
    "    quotes = []\n",
    "    soup=BeautifulSoup(res.text)\n",
    "\n",
    "    quotes_divs = soup.find_all(\"div\",attrs={\"class\":\"quote\"})\n",
    "\n",
    "    for quotes_div in quotes_divs:\n",
    "\n",
    "        quoteText_div = quotes_div.find_next(\"div\",attrs = {\"class\":\"quoteText\"})\n",
    "        stripped_li=quoteText_div.text.strip()\n",
    "        strip_list = stripped_li.split(\"\\n\")\n",
    "        quote = strip_list[0][1:-1]\n",
    "        author = strip_list[-1].strip()\n",
    "        left_div = quotes_div.find_next(\"div\",attrs={\"class\":\"left\"})\n",
    "        tags = [tag.text for tag in left_div.find_all(\"a\")]\n",
    "        quote_item ={\n",
    "            \"text\" : quote,\n",
    "            \"author\" : author,\n",
    "            \"tags\" : tags\n",
    "\n",
    "        }\n",
    "        quotes.append(quote_item)\n",
    "        \n",
    "    return quotes"
   ]
  },
  {
   "cell_type": "code",
   "execution_count": 10,
   "metadata": {},
   "outputs": [
    {
     "name": "stdout",
     "output_type": "stream",
     "text": [
      "processed 1\n",
      "processed 2\n",
      "processed 3\n",
      "processed 4\n",
      "processed 5\n"
     ]
    }
   ],
   "source": [
    "total = []\n",
    "for i in range(1,6):\n",
    "    total.extend(get_quotes(url.format(\"love\",i)))\n",
    "    print(\"processed\",i)"
   ]
  },
  {
   "cell_type": "code",
   "execution_count": null,
   "metadata": {},
   "outputs": [],
   "source": []
  }
 ],
 "metadata": {
  "kernelspec": {
   "display_name": "Python 3",
   "language": "python",
   "name": "python3"
  },
  "language_info": {
   "codemirror_mode": {
    "name": "ipython",
    "version": 3
   },
   "file_extension": ".py",
   "mimetype": "text/x-python",
   "name": "python",
   "nbconvert_exporter": "python",
   "pygments_lexer": "ipython3",
   "version": "3.6.8"
  }
 },
 "nbformat": 4,
 "nbformat_minor": 4
}
